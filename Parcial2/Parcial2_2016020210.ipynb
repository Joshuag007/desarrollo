{
 "cells": [
  {
   "cell_type": "code",
   "execution_count": 22,
   "metadata": {},
   "outputs": [],
   "source": [
    "import numpy as np\n",
    "import time"
   ]
  },
  {
   "cell_type": "code",
   "execution_count": 23,
   "metadata": {},
   "outputs": [],
   "source": [
    "datos = np.random.normal(500,30,10000000)"
   ]
  },
  {
   "cell_type": "code",
   "execution_count": 24,
   "metadata": {},
   "outputs": [
    {
     "name": "stdout",
     "output_type": "stream",
     "text": [
      "datos menos a 500000  4999919893.196466\n",
      "Duracion: 4.050609350204468 segundos\n"
     ]
    }
   ],
   "source": [
    "inicio =time.time()\n",
    "genero_datos_menores=[]\n",
    "for data in datos:\n",
    "    if (data<=500000):\n",
    "        genero_datos_menores.append(data)\n",
    "print ('datos menos a 500000 ',sum(genero_datos_menores))\n",
    "print ('Duracion: {} segundos'.format(time.time() - inicio))"
   ]
  },
  {
   "cell_type": "code",
   "execution_count": 25,
   "metadata": {},
   "outputs": [
    {
     "name": "stdout",
     "output_type": "stream",
     "text": [
      "total de datos:  4999919893.195965\n",
      "duracion: 0.5666775703430176 segundos\n"
     ]
    }
   ],
   "source": [
    "inicio = time.time()\n",
    "arreglos_datos_menores = np.array(genero_datos_menores)\n",
    "datos = arreglos_datos_menores[arreglos_datos_menores <= 500000]\n",
    "datos = np.sum(datos)\n",
    "print ('total de datos: ', datos)\n",
    "print ('duracion: {} segundos'.format(time.time() - inicio))"
   ]
  },
  {
   "cell_type": "code",
   "execution_count": null,
   "metadata": {},
   "outputs": [],
   "source": []
  }
 ],
 "metadata": {
  "kernelspec": {
   "display_name": "Python 3",
   "language": "python",
   "name": "python3"
  },
  "language_info": {
   "codemirror_mode": {
    "name": "ipython",
    "version": 3
   },
   "file_extension": ".py",
   "mimetype": "text/x-python",
   "name": "python",
   "nbconvert_exporter": "python",
   "pygments_lexer": "ipython3",
   "version": "3.8.3"
  }
 },
 "nbformat": 4,
 "nbformat_minor": 4
}
